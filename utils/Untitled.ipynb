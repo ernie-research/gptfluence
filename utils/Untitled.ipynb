{
 "cells": [
  {
   "cell_type": "code",
   "execution_count": 1,
   "id": "5b438619-5d21-4d4f-a880-f99f39814152",
   "metadata": {
    "execution": {
     "iopub.execute_input": "2024-01-26T06:26:25.388177Z",
     "iopub.status.busy": "2024-01-26T06:26:25.387720Z",
     "iopub.status.idle": "2024-01-26T06:26:25.529666Z",
     "shell.execute_reply": "2024-01-26T06:26:25.528690Z",
     "shell.execute_reply.started": "2024-01-26T06:26:25.388147Z"
    },
    "scrolled": true
   },
   "outputs": [],
   "source": [
    "import numpy as np"
   ]
  },
  {
   "cell_type": "code",
   "execution_count": 2,
   "id": "ae5f2ace-4ff2-4cb4-93a1-95c78024ce18",
   "metadata": {
    "execution": {
     "iopub.execute_input": "2024-01-26T06:26:40.881971Z",
     "iopub.status.busy": "2024-01-26T06:26:40.881487Z",
     "iopub.status.idle": "2024-01-26T06:26:40.885845Z",
     "shell.execute_reply": "2024-01-26T06:26:40.885012Z",
     "shell.execute_reply.started": "2024-01-26T06:26:40.881938Z"
    },
    "scrolled": true
   },
   "outputs": [],
   "source": [
    "a = np.array([1, 2, 3])"
   ]
  },
  {
   "cell_type": "code",
   "execution_count": 4,
   "id": "953cb6b0-6f43-465b-a791-c8b8ba2fa0fc",
   "metadata": {
    "execution": {
     "iopub.execute_input": "2024-01-26T06:26:58.168808Z",
     "iopub.status.busy": "2024-01-26T06:26:58.168350Z",
     "iopub.status.idle": "2024-01-26T06:26:58.173429Z",
     "shell.execute_reply": "2024-01-26T06:26:58.172784Z",
     "shell.execute_reply.started": "2024-01-26T06:26:58.168779Z"
    },
    "scrolled": true
   },
   "outputs": [
    {
     "data": {
      "text/plain": [
       "2.0"
      ]
     },
     "execution_count": 4,
     "metadata": {},
     "output_type": "execute_result"
    }
   ],
   "source": [
    "a.mean()\n",
    "# a.std()"
   ]
  },
  {
   "cell_type": "code",
   "execution_count": null,
   "id": "e1cd1fe5-da68-4990-b6b1-050f47412b28",
   "metadata": {
    "scrolled": true
   },
   "outputs": [],
   "source": []
  }
 ],
 "metadata": {
  "kernelspec": {
   "display_name": "Python 3 (ipykernel)",
   "language": "python",
   "name": "python3"
  },
  "language_info": {
   "codemirror_mode": {
    "name": "ipython",
    "version": 3
   },
   "file_extension": ".py",
   "mimetype": "text/x-python",
   "name": "python",
   "nbconvert_exporter": "python",
   "pygments_lexer": "ipython3",
   "version": "3.7.0"
  }
 },
 "nbformat": 4,
 "nbformat_minor": 5
}
